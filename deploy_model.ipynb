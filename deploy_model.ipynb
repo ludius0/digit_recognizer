{
 "cells": [
  {
   "cell_type": "markdown",
   "metadata": {},
   "source": [
    "#### Import"
   ]
  },
  {
   "cell_type": "code",
   "execution_count": 57,
   "metadata": {},
   "outputs": [],
   "source": [
    "from fastai.vision.widgets import *\n",
    "from fastai.vision.all import *"
   ]
  },
  {
   "cell_type": "markdown",
   "metadata": {},
   "source": [
    "#### Load"
   ]
  },
  {
   "cell_type": "code",
   "execution_count": 58,
   "metadata": {},
   "outputs": [
    {
     "data": {
      "text/plain": [
       "<fastai.learner.Learner at 0x22e53165f40>"
      ]
     },
     "execution_count": 58,
     "metadata": {},
     "output_type": "execute_result"
    }
   ],
   "source": [
    "path = Path()\n",
    "path.ls(file_exts='.pkl')\n",
    "learn_inf = load_learner(path/'export.pkl')\n",
    "learn_inf"
   ]
  },
  {
   "cell_type": "markdown",
   "metadata": {},
   "source": [
    "## Deploy (Fastai version)"
   ]
  },
  {
   "cell_type": "code",
   "execution_count": 59,
   "metadata": {},
   "outputs": [],
   "source": [
    "# Prepare buttons\n",
    "btn_upload = widgets.FileUpload()\n",
    "btn_run = widgets.Button(description=\"Classify\")\n",
    "out_pl = widgets.Output()\n",
    "lbl_pred = widgets.Label()"
   ]
  },
  {
   "cell_type": "code",
   "execution_count": 60,
   "metadata": {},
   "outputs": [],
   "source": [
    "# button for predicting using model\n",
    "def on_click_classify(change):\n",
    "    img = PILImage.create(btn_upload.data[-1])\n",
    "    out_pl.clear_output()\n",
    "    with out_pl:\n",
    "        display(img.to_thumb(128,128))\n",
    "    pred,pred_idx,probs = learn_inf.predict(img)\n",
    "    lbl_pred.value = f\"Prediction: {pred}; Probability: {probs[pred_idx]:.04f}\"\n",
    "\n",
    "btn_run.on_click(on_click_classify)"
   ]
  },
  {
   "cell_type": "code",
   "execution_count": 61,
   "metadata": {},
   "outputs": [
    {
     "data": {
      "application/vnd.jupyter.widget-view+json": {
       "model_id": "ff9c4ba8632546f6890094f95b0d9d18",
       "version_major": 2,
       "version_minor": 0
      },
      "text/plain": [
       "VBox(children=(Label(value='Select your digit! (will classify last uploaded)'), FileUpload(value={}, descripti…"
      ]
     },
     "metadata": {},
     "output_type": "display_data"
    }
   ],
   "source": [
    "# show widgets\n",
    "VBox([widgets.Label(\"Select your digit! (will classify last uploaded)\"), \n",
    "      btn_upload, btn_run, out_pl, lbl_pred])"
   ]
  },
  {
   "cell_type": "markdown",
   "metadata": {},
   "source": [
    "## Deploy (from scratch ver)"
   ]
  },
  {
   "cell_type": "code",
   "execution_count": null,
   "metadata": {},
   "outputs": [
    {
     "name": "stderr",
     "output_type": "stream",
     "text": [
      "Loss: 0.00153; Acc: 0.99219:  94%|█████████▍| 9444/10000 [00:37<00:02, 265.99it/s]"
     ]
    }
   ],
   "source": [
    "import numpy as np\n",
    "import matplotlib.pyplot as plt\n",
    "from tqdm import trange\n",
    "\n",
    "import requests, gzip\n",
    "from pathlib import Path\n",
    "\n",
    "def fetch(url):    \n",
    "    name = url.split(\"/\")[-1]\n",
    "    dirs = Path(\"dataset/mnist\")\n",
    "    path = (dirs / name)\n",
    "    if path.exists():\n",
    "        with path.open(\"rb\") as f:\n",
    "            dat = f.read()\n",
    "    else:\n",
    "        if not dirs.is_dir():\n",
    "            dirs.mkdir(parents=True, exist_ok=True)\n",
    "        with path.open(\"wb\") as f:\n",
    "            dat = requests.get(url).content\n",
    "            f.write(dat)\n",
    "    return np.frombuffer(gzip.decompress(dat), dtype=np.uint8).copy()\n",
    "\n",
    "def mnist_dataset():\n",
    "    X_train = fetch(\"http://yann.lecun.com/exdb/mnist/train-images-idx3-ubyte.gz\")[0x10:].reshape((-1, 28, 28))\n",
    "    Y_train = fetch(\"http://yann.lecun.com/exdb/mnist/train-labels-idx1-ubyte.gz\")[8:]\n",
    "    X_test = fetch(\"http://yann.lecun.com/exdb/mnist/t10k-images-idx3-ubyte.gz\")[0x10:].reshape((-1, 28, 28))\n",
    "    Y_test = fetch(\"http://yann.lecun.com/exdb/mnist/t10k-labels-idx1-ubyte.gz\")[8:]\n",
    "    return (X_train, Y_train, X_test, Y_test)\n",
    "X_train, Y_train, X_test, Y_test = mnist_dataset()\n",
    "\n",
    "def _uniform(a, b, dtype=np.float32):\n",
    "    return np.random.uniform(-1., 1., size=(a, b)).astype(dtype) / np.sqrt(a*b)\n",
    "\n",
    "def linear(a, b):\n",
    "    return a @ b # np.dot(a, b)\n",
    "\n",
    "def relu(x): \n",
    "    return np.maximum(x, 0)\n",
    "\n",
    "def logsumexp(x):\n",
    "    c = x.max(axis=1)\n",
    "    return x - (c + np.log(np.exp(x-c.reshape((-1, 1))).sum(axis=1))).reshape((-1, 1))\n",
    "\n",
    "class Net:\n",
    "    def __init__(self, lr=0.001):\n",
    "        # parameters\n",
    "        self.w1 = _uniform(784, 128)\n",
    "        self.w2 = _uniform(128, 10)\n",
    "        self.lr = lr\n",
    "    \n",
    "    def calc_loss(self):\n",
    "        # crossentropyloss\n",
    "        self.x_lsm = logsumexp(self.x_w2)\n",
    "        self.loss = (-self.out * self.x_lsm).mean(axis=1).mean()\n",
    "    \n",
    "    def calc_optim(self):\n",
    "        # Update (SGD)\n",
    "        self.w1 += -self.lr * self.d_w1\n",
    "        self.w2 += -self.lr * self.d_w2\n",
    "    \n",
    "    def forward(self, X):\n",
    "        self.X = X\n",
    "        self.x_w1 = linear(X, self.w1)\n",
    "        self.x_relu = relu(self.x_w1)\n",
    "        self.x_w2 = linear(self.x_relu, self.w2)\n",
    "        return self.x_w2\n",
    "    \n",
    "    def backward(self, Y):\n",
    "        # target -> one-hot encoded\n",
    "        self.out = np.zeros((len(Y),10), np.float32)\n",
    "        self.out[range(self.out.shape[0]), Y] = 1\n",
    "        # loss function\n",
    "        self.calc_loss()\n",
    "        # derivative of target\n",
    "        d_out = -self.out / len(Y)\n",
    "        # derivative of loss with respect to target\n",
    "        dx_lsm = d_out - np.exp(self.x_lsm) * d_out.sum(axis=1).reshape((-1, 1))\n",
    "        # derivative of l2\n",
    "        self.d_w2 = self.x_relu.T @ dx_lsm\n",
    "        # derivative of ReLU\n",
    "        d_relu = dx_lsm @ self.w2.T\n",
    "        d_relu[self.x_w1 < 0] = 0\n",
    "        # derivative of l1\n",
    "        self.d_w1 = self.X.T @ d_relu\n",
    "        \n",
    "\n",
    "net = Net()\n",
    "batch_size = 128\n",
    "losses, accuracies = [], []\n",
    "## Train\n",
    "for i in (t := trange(10000)):\n",
    "    # Batch of training data & target data\n",
    "    samp = np.random.randint(0, X_train.shape[0], size=(batch_size))\n",
    "    X = X_train[samp].reshape((-1, 28*28))\n",
    "    Y = Y_train[samp]\n",
    "    \n",
    "    output = net.forward(X)\n",
    "    net.backward(Y)\n",
    "    net.calc_optim()\n",
    "    \n",
    "    # Save for statistic\n",
    "    cat = np.argmax(output, axis=1) # results from Net\n",
    "    acc = (cat == Y).mean()\n",
    "    accuracies.append(acc)\n",
    "    losses.append(net.loss)\n",
    "    \n",
    "    t.set_description(f\"Loss: {net.loss:.5f}; Acc: {acc:.5f}\")\n",
    "    \n",
    "#plt.ylim(-0.01, 1.1)\n",
    "#plt.plot(losses)\n",
    "#plt.plot(accuracies)\n",
    "#plt.legend([\"losses\", \"accuracies\"])\n",
    "#plt.show()\n",
    "\n",
    "## Evaluation\n",
    "Y_test_preds = np.argmax(net.forward(X_test.reshape((-1, 28*28))), axis=1)\n",
    "true_acc = (Y_test == Y_test_preds).mean()\n",
    "print(f\"Accuracy on testing set: {true_acc}\")"
   ]
  },
  {
   "cell_type": "code",
   "execution_count": null,
   "metadata": {},
   "outputs": [],
   "source": [
    "from ipywidgets import VBox, FileUpload, Button, Output, Label\n",
    "from IPython.display import display\n",
    "from PIL import Image, ImageOps\n",
    "import io\n",
    "\n",
    "def softmax(x): return np.exp(x) / np.exp(x).sum(axis=1)\n",
    "\n",
    "btn_upload_ = FileUpload()\n",
    "btn_run_ = Button(description=\"Classify\")\n",
    "out_pl_ = Output()\n",
    "lbl_pred_ = Label()\n",
    "\n",
    "def on_click_classify_(change):\n",
    "    # Convert Image from bytes to PIL format and than to numpy array\n",
    "    fn = io.BytesIO(btn_upload_.data[-1])\n",
    "    img = Image.open(fn).resize((28, 28))\n",
    "    img_ = ImageOps.grayscale(img)\n",
    "    arr = np.asarray(img_)\n",
    "    \n",
    "    # get values from NN and show them\n",
    "    output = net.forward(arr.reshape((1, 28*28)))\n",
    "    predict = np.argmax(output, axis=1)\n",
    "    confid = softmax(output)\n",
    "    \n",
    "    # display\n",
    "    out_pl_.clear_output()\n",
    "    with out_pl_: \n",
    "        display(img_)\n",
    "        lbl_pred_.value = f\"Prediction: {predict[0]}; Confidence: {confid[0][predict[0]]:.4f}\"\n",
    "    \n",
    "btn_run_.on_click(on_click_classify_)\n",
    "VBox([Label(\"Select your digit! (will classify last uploaded)\"), \n",
    "      btn_upload_, btn_run_, out_pl_, lbl_pred_])"
   ]
  },
  {
   "cell_type": "markdown",
   "metadata": {},
   "source": [
    "### @ludius0 testing deployment from jupyter notebook to web (voila)"
   ]
  }
 ],
 "metadata": {
  "kernelspec": {
   "display_name": "Python 3",
   "language": "python",
   "name": "python3"
  },
  "language_info": {
   "codemirror_mode": {
    "name": "ipython",
    "version": 3
   },
   "file_extension": ".py",
   "mimetype": "text/x-python",
   "name": "python",
   "nbconvert_exporter": "python",
   "pygments_lexer": "ipython3",
   "version": "3.8.6"
  }
 },
 "nbformat": 4,
 "nbformat_minor": 4
}
